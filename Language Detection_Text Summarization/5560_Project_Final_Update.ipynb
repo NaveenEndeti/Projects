{
  "nbformat": 4,
  "nbformat_minor": 0,
  "metadata": {
    "colab": {
      "name": "5560_Project_1.ipynb",
      "provenance": []
    },
    "kernelspec": {
      "name": "python3",
      "display_name": "Python 3"
    },
    "language_info": {
      "name": "python"
    }
  },
  "cells": [
    {
      "cell_type": "code",
      "execution_count": 1,
      "metadata": {
        "colab": {
          "base_uri": "https://localhost:8080/"
        },
        "id": "GjevaVaMlsvY",
        "outputId": "8b195d23-8e35-4129-cf7b-dbf006892031"
      },
      "outputs": [
        {
          "output_type": "stream",
          "name": "stdout",
          "text": [
            "[nltk_data] Downloading package punkt to /root/nltk_data...\n",
            "[nltk_data]   Unzipping tokenizers/punkt.zip.\n",
            "[nltk_data] Downloading package stopwords to /root/nltk_data...\n",
            "[nltk_data]   Unzipping corpora/stopwords.zip.\n",
            "[nltk_data] Downloading package wordnet to /root/nltk_data...\n",
            "[nltk_data]   Unzipping corpora/wordnet.zip.\n",
            "[nltk_data] Downloading package averaged_perceptron_tagger to\n",
            "[nltk_data]     /root/nltk_data...\n",
            "[nltk_data]   Unzipping taggers/averaged_perceptron_tagger.zip.\n"
          ]
        }
      ],
      "source": [
        "import nltk\n",
        "nltk.download('punkt')\n",
        "nltk.download('stopwords')\n",
        "nltk.download('wordnet')\n",
        "nltk.download('averaged_perceptron_tagger')\n",
        "from sklearn.model_selection import train_test_split\n",
        "from sklearn import svm\n",
        "from sklearn.metrics import accuracy_score, classification_report\n",
        "import pandas as pd\n",
        "from nltk.tokenize import word_tokenize, sent_tokenize\n",
        "from nltk.corpus import wordnet as wn\n",
        "from nltk.corpus import stopwords\n",
        "from collections import defaultdict\n",
        "from nltk.stem import WordNetLemmatizer\n",
        "from nltk import pos_tag\n",
        "from sklearn.preprocessing import LabelEncoder\n",
        "from sklearn.feature_extraction.text import TfidfVectorizer"
      ]
    },
    {
      "cell_type": "code",
      "source": [
        "# dataset = pd.read_csv(\"/content/Language Detection.csv\")\n",
        "dataset = pd.read_csv(\"/content/Lang_detect.csv\")\n",
        "dataset.head()"
      ],
      "metadata": {
        "id": "eL9IykuRoCst",
        "colab": {
          "base_uri": "https://localhost:8080/",
          "height": 548
        },
        "outputId": "68b5b04d-6fc3-49e3-f4ca-fb3cc9e8a822"
      },
      "execution_count": 3,
      "outputs": [
        {
          "output_type": "execute_result",
          "data": {
            "text/plain": [
              "                                                Text  language Unnamed: 2  \\\n",
              "0  klement gottwaldi surnukeha palsameeriti ning ...  Estonian        NaN   \n",
              "1  sebes joseph pereira thomas  på eng the jesuit...   Swedish        NaN   \n",
              "2  ถนนเจริญกรุง อักษรโรมัน thanon charoen krung เ...      Thai        NaN   \n",
              "3  விசாகப்பட்டினம் தமிழ்ச்சங்கத்தை இந்துப் பத்திர...     Tamil        NaN   \n",
              "4  de spons behoort tot het geslacht haliclona en...     Dutch        NaN   \n",
              "\n",
              "  Unnamed: 3 Unnamed: 4 Unnamed: 5 Unnamed: 6 Unnamed: 7 Unnamed: 8  \\\n",
              "0        NaN        NaN        NaN        NaN        NaN        NaN   \n",
              "1        NaN        NaN        NaN        NaN        NaN        NaN   \n",
              "2        NaN        NaN        NaN        NaN        NaN        NaN   \n",
              "3        NaN        NaN        NaN        NaN        NaN        NaN   \n",
              "4        NaN        NaN        NaN        NaN        NaN        NaN   \n",
              "\n",
              "  Unnamed: 9 Unnamed: 10 Unnamed: 11 Unnamed: 12 Unnamed: 13 Unnamed: 14  \\\n",
              "0        NaN         NaN         NaN         NaN         NaN         NaN   \n",
              "1        NaN         NaN         NaN         NaN         NaN         NaN   \n",
              "2        NaN         NaN         NaN         NaN         NaN         NaN   \n",
              "3        NaN         NaN         NaN         NaN         NaN         NaN   \n",
              "4        NaN         NaN         NaN         NaN         NaN         NaN   \n",
              "\n",
              "  Unnamed: 15 Unnamed: 16 Unnamed: 17 Unnamed: 18 Unnamed: 19  \n",
              "0         NaN         NaN         NaN         NaN         NaN  \n",
              "1         NaN         NaN         NaN         NaN         NaN  \n",
              "2         NaN         NaN         NaN         NaN         NaN  \n",
              "3         NaN         NaN         NaN         NaN         NaN  \n",
              "4         NaN         NaN         NaN         NaN         NaN  "
            ],
            "text/html": [
              "\n",
              "  <div id=\"df-0723121f-ac39-4eb6-980e-8e0aadaf6a7e\">\n",
              "    <div class=\"colab-df-container\">\n",
              "      <div>\n",
              "<style scoped>\n",
              "    .dataframe tbody tr th:only-of-type {\n",
              "        vertical-align: middle;\n",
              "    }\n",
              "\n",
              "    .dataframe tbody tr th {\n",
              "        vertical-align: top;\n",
              "    }\n",
              "\n",
              "    .dataframe thead th {\n",
              "        text-align: right;\n",
              "    }\n",
              "</style>\n",
              "<table border=\"1\" class=\"dataframe\">\n",
              "  <thead>\n",
              "    <tr style=\"text-align: right;\">\n",
              "      <th></th>\n",
              "      <th>Text</th>\n",
              "      <th>language</th>\n",
              "      <th>Unnamed: 2</th>\n",
              "      <th>Unnamed: 3</th>\n",
              "      <th>Unnamed: 4</th>\n",
              "      <th>Unnamed: 5</th>\n",
              "      <th>Unnamed: 6</th>\n",
              "      <th>Unnamed: 7</th>\n",
              "      <th>Unnamed: 8</th>\n",
              "      <th>Unnamed: 9</th>\n",
              "      <th>Unnamed: 10</th>\n",
              "      <th>Unnamed: 11</th>\n",
              "      <th>Unnamed: 12</th>\n",
              "      <th>Unnamed: 13</th>\n",
              "      <th>Unnamed: 14</th>\n",
              "      <th>Unnamed: 15</th>\n",
              "      <th>Unnamed: 16</th>\n",
              "      <th>Unnamed: 17</th>\n",
              "      <th>Unnamed: 18</th>\n",
              "      <th>Unnamed: 19</th>\n",
              "    </tr>\n",
              "  </thead>\n",
              "  <tbody>\n",
              "    <tr>\n",
              "      <th>0</th>\n",
              "      <td>klement gottwaldi surnukeha palsameeriti ning ...</td>\n",
              "      <td>Estonian</td>\n",
              "      <td>NaN</td>\n",
              "      <td>NaN</td>\n",
              "      <td>NaN</td>\n",
              "      <td>NaN</td>\n",
              "      <td>NaN</td>\n",
              "      <td>NaN</td>\n",
              "      <td>NaN</td>\n",
              "      <td>NaN</td>\n",
              "      <td>NaN</td>\n",
              "      <td>NaN</td>\n",
              "      <td>NaN</td>\n",
              "      <td>NaN</td>\n",
              "      <td>NaN</td>\n",
              "      <td>NaN</td>\n",
              "      <td>NaN</td>\n",
              "      <td>NaN</td>\n",
              "      <td>NaN</td>\n",
              "      <td>NaN</td>\n",
              "    </tr>\n",
              "    <tr>\n",
              "      <th>1</th>\n",
              "      <td>sebes joseph pereira thomas  på eng the jesuit...</td>\n",
              "      <td>Swedish</td>\n",
              "      <td>NaN</td>\n",
              "      <td>NaN</td>\n",
              "      <td>NaN</td>\n",
              "      <td>NaN</td>\n",
              "      <td>NaN</td>\n",
              "      <td>NaN</td>\n",
              "      <td>NaN</td>\n",
              "      <td>NaN</td>\n",
              "      <td>NaN</td>\n",
              "      <td>NaN</td>\n",
              "      <td>NaN</td>\n",
              "      <td>NaN</td>\n",
              "      <td>NaN</td>\n",
              "      <td>NaN</td>\n",
              "      <td>NaN</td>\n",
              "      <td>NaN</td>\n",
              "      <td>NaN</td>\n",
              "      <td>NaN</td>\n",
              "    </tr>\n",
              "    <tr>\n",
              "      <th>2</th>\n",
              "      <td>ถนนเจริญกรุง อักษรโรมัน thanon charoen krung เ...</td>\n",
              "      <td>Thai</td>\n",
              "      <td>NaN</td>\n",
              "      <td>NaN</td>\n",
              "      <td>NaN</td>\n",
              "      <td>NaN</td>\n",
              "      <td>NaN</td>\n",
              "      <td>NaN</td>\n",
              "      <td>NaN</td>\n",
              "      <td>NaN</td>\n",
              "      <td>NaN</td>\n",
              "      <td>NaN</td>\n",
              "      <td>NaN</td>\n",
              "      <td>NaN</td>\n",
              "      <td>NaN</td>\n",
              "      <td>NaN</td>\n",
              "      <td>NaN</td>\n",
              "      <td>NaN</td>\n",
              "      <td>NaN</td>\n",
              "      <td>NaN</td>\n",
              "    </tr>\n",
              "    <tr>\n",
              "      <th>3</th>\n",
              "      <td>விசாகப்பட்டினம் தமிழ்ச்சங்கத்தை இந்துப் பத்திர...</td>\n",
              "      <td>Tamil</td>\n",
              "      <td>NaN</td>\n",
              "      <td>NaN</td>\n",
              "      <td>NaN</td>\n",
              "      <td>NaN</td>\n",
              "      <td>NaN</td>\n",
              "      <td>NaN</td>\n",
              "      <td>NaN</td>\n",
              "      <td>NaN</td>\n",
              "      <td>NaN</td>\n",
              "      <td>NaN</td>\n",
              "      <td>NaN</td>\n",
              "      <td>NaN</td>\n",
              "      <td>NaN</td>\n",
              "      <td>NaN</td>\n",
              "      <td>NaN</td>\n",
              "      <td>NaN</td>\n",
              "      <td>NaN</td>\n",
              "      <td>NaN</td>\n",
              "    </tr>\n",
              "    <tr>\n",
              "      <th>4</th>\n",
              "      <td>de spons behoort tot het geslacht haliclona en...</td>\n",
              "      <td>Dutch</td>\n",
              "      <td>NaN</td>\n",
              "      <td>NaN</td>\n",
              "      <td>NaN</td>\n",
              "      <td>NaN</td>\n",
              "      <td>NaN</td>\n",
              "      <td>NaN</td>\n",
              "      <td>NaN</td>\n",
              "      <td>NaN</td>\n",
              "      <td>NaN</td>\n",
              "      <td>NaN</td>\n",
              "      <td>NaN</td>\n",
              "      <td>NaN</td>\n",
              "      <td>NaN</td>\n",
              "      <td>NaN</td>\n",
              "      <td>NaN</td>\n",
              "      <td>NaN</td>\n",
              "      <td>NaN</td>\n",
              "      <td>NaN</td>\n",
              "    </tr>\n",
              "  </tbody>\n",
              "</table>\n",
              "</div>\n",
              "      <button class=\"colab-df-convert\" onclick=\"convertToInteractive('df-0723121f-ac39-4eb6-980e-8e0aadaf6a7e')\"\n",
              "              title=\"Convert this dataframe to an interactive table.\"\n",
              "              style=\"display:none;\">\n",
              "        \n",
              "  <svg xmlns=\"http://www.w3.org/2000/svg\" height=\"24px\"viewBox=\"0 0 24 24\"\n",
              "       width=\"24px\">\n",
              "    <path d=\"M0 0h24v24H0V0z\" fill=\"none\"/>\n",
              "    <path d=\"M18.56 5.44l.94 2.06.94-2.06 2.06-.94-2.06-.94-.94-2.06-.94 2.06-2.06.94zm-11 1L8.5 8.5l.94-2.06 2.06-.94-2.06-.94L8.5 2.5l-.94 2.06-2.06.94zm10 10l.94 2.06.94-2.06 2.06-.94-2.06-.94-.94-2.06-.94 2.06-2.06.94z\"/><path d=\"M17.41 7.96l-1.37-1.37c-.4-.4-.92-.59-1.43-.59-.52 0-1.04.2-1.43.59L10.3 9.45l-7.72 7.72c-.78.78-.78 2.05 0 2.83L4 21.41c.39.39.9.59 1.41.59.51 0 1.02-.2 1.41-.59l7.78-7.78 2.81-2.81c.8-.78.8-2.07 0-2.86zM5.41 20L4 18.59l7.72-7.72 1.47 1.35L5.41 20z\"/>\n",
              "  </svg>\n",
              "      </button>\n",
              "      \n",
              "  <style>\n",
              "    .colab-df-container {\n",
              "      display:flex;\n",
              "      flex-wrap:wrap;\n",
              "      gap: 12px;\n",
              "    }\n",
              "\n",
              "    .colab-df-convert {\n",
              "      background-color: #E8F0FE;\n",
              "      border: none;\n",
              "      border-radius: 50%;\n",
              "      cursor: pointer;\n",
              "      display: none;\n",
              "      fill: #1967D2;\n",
              "      height: 32px;\n",
              "      padding: 0 0 0 0;\n",
              "      width: 32px;\n",
              "    }\n",
              "\n",
              "    .colab-df-convert:hover {\n",
              "      background-color: #E2EBFA;\n",
              "      box-shadow: 0px 1px 2px rgba(60, 64, 67, 0.3), 0px 1px 3px 1px rgba(60, 64, 67, 0.15);\n",
              "      fill: #174EA6;\n",
              "    }\n",
              "\n",
              "    [theme=dark] .colab-df-convert {\n",
              "      background-color: #3B4455;\n",
              "      fill: #D2E3FC;\n",
              "    }\n",
              "\n",
              "    [theme=dark] .colab-df-convert:hover {\n",
              "      background-color: #434B5C;\n",
              "      box-shadow: 0px 1px 3px 1px rgba(0, 0, 0, 0.15);\n",
              "      filter: drop-shadow(0px 1px 2px rgba(0, 0, 0, 0.3));\n",
              "      fill: #FFFFFF;\n",
              "    }\n",
              "  </style>\n",
              "\n",
              "      <script>\n",
              "        const buttonEl =\n",
              "          document.querySelector('#df-0723121f-ac39-4eb6-980e-8e0aadaf6a7e button.colab-df-convert');\n",
              "        buttonEl.style.display =\n",
              "          google.colab.kernel.accessAllowed ? 'block' : 'none';\n",
              "\n",
              "        async function convertToInteractive(key) {\n",
              "          const element = document.querySelector('#df-0723121f-ac39-4eb6-980e-8e0aadaf6a7e');\n",
              "          const dataTable =\n",
              "            await google.colab.kernel.invokeFunction('convertToInteractive',\n",
              "                                                     [key], {});\n",
              "          if (!dataTable) return;\n",
              "\n",
              "          const docLinkHtml = 'Like what you see? Visit the ' +\n",
              "            '<a target=\"_blank\" href=https://colab.research.google.com/notebooks/data_table.ipynb>data table notebook</a>'\n",
              "            + ' to learn more about interactive tables.';\n",
              "          element.innerHTML = '';\n",
              "          dataTable['output_type'] = 'display_data';\n",
              "          await google.colab.output.renderOutput(dataTable, element);\n",
              "          const docLink = document.createElement('div');\n",
              "          docLink.innerHTML = docLinkHtml;\n",
              "          element.appendChild(docLink);\n",
              "        }\n",
              "      </script>\n",
              "    </div>\n",
              "  </div>\n",
              "  "
            ]
          },
          "metadata": {},
          "execution_count": 3
        }
      ]
    },
    {
      "cell_type": "code",
      "source": [
        "dataset = dataset.loc[dataset['language'].notna()]\n",
        "dataset = dataset.loc[dataset['Text'].notna()]"
      ],
      "metadata": {
        "id": "8ssW1OSmjMm1"
      },
      "execution_count": 4,
      "outputs": []
    },
    {
      "cell_type": "code",
      "source": [
        "len(dataset[\"language\"].unique())"
      ],
      "metadata": {
        "colab": {
          "base_uri": "https://localhost:8080/"
        },
        "id": "Xs7ua56QhduE",
        "outputId": "6e851e54-d0c8-4c49-b643-cc555af00151"
      },
      "execution_count": 5,
      "outputs": [
        {
          "output_type": "execute_result",
          "data": {
            "text/plain": [
              "32"
            ]
          },
          "metadata": {},
          "execution_count": 5
        }
      ]
    },
    {
      "cell_type": "code",
      "source": [
        "dataset = dataset.dropna(axis=1)"
      ],
      "metadata": {
        "id": "uqXGacZMkWns"
      },
      "execution_count": 9,
      "outputs": []
    },
    {
      "cell_type": "code",
      "source": [
        "dataset.head()"
      ],
      "metadata": {
        "colab": {
          "base_uri": "https://localhost:8080/",
          "height": 206
        },
        "id": "Kht1k8N4jUXf",
        "outputId": "b484c87f-b541-418a-90be-1538c1f680a3"
      },
      "execution_count": 10,
      "outputs": [
        {
          "output_type": "execute_result",
          "data": {
            "text/plain": [
              "                                                Text  language\n",
              "0  klement gottwaldi surnukeha palsameeriti ning ...  Estonian\n",
              "1  sebes joseph pereira thomas  på eng the jesuit...   Swedish\n",
              "2  ถนนเจริญกรุง อักษรโรมัน thanon charoen krung เ...      Thai\n",
              "3  விசாகப்பட்டினம் தமிழ்ச்சங்கத்தை இந்துப் பத்திர...     Tamil\n",
              "4  de spons behoort tot het geslacht haliclona en...     Dutch"
            ],
            "text/html": [
              "\n",
              "  <div id=\"df-e0d9c1bd-63da-4ac0-a109-e37f0cb3d53a\">\n",
              "    <div class=\"colab-df-container\">\n",
              "      <div>\n",
              "<style scoped>\n",
              "    .dataframe tbody tr th:only-of-type {\n",
              "        vertical-align: middle;\n",
              "    }\n",
              "\n",
              "    .dataframe tbody tr th {\n",
              "        vertical-align: top;\n",
              "    }\n",
              "\n",
              "    .dataframe thead th {\n",
              "        text-align: right;\n",
              "    }\n",
              "</style>\n",
              "<table border=\"1\" class=\"dataframe\">\n",
              "  <thead>\n",
              "    <tr style=\"text-align: right;\">\n",
              "      <th></th>\n",
              "      <th>Text</th>\n",
              "      <th>language</th>\n",
              "    </tr>\n",
              "  </thead>\n",
              "  <tbody>\n",
              "    <tr>\n",
              "      <th>0</th>\n",
              "      <td>klement gottwaldi surnukeha palsameeriti ning ...</td>\n",
              "      <td>Estonian</td>\n",
              "    </tr>\n",
              "    <tr>\n",
              "      <th>1</th>\n",
              "      <td>sebes joseph pereira thomas  på eng the jesuit...</td>\n",
              "      <td>Swedish</td>\n",
              "    </tr>\n",
              "    <tr>\n",
              "      <th>2</th>\n",
              "      <td>ถนนเจริญกรุง อักษรโรมัน thanon charoen krung เ...</td>\n",
              "      <td>Thai</td>\n",
              "    </tr>\n",
              "    <tr>\n",
              "      <th>3</th>\n",
              "      <td>விசாகப்பட்டினம் தமிழ்ச்சங்கத்தை இந்துப் பத்திர...</td>\n",
              "      <td>Tamil</td>\n",
              "    </tr>\n",
              "    <tr>\n",
              "      <th>4</th>\n",
              "      <td>de spons behoort tot het geslacht haliclona en...</td>\n",
              "      <td>Dutch</td>\n",
              "    </tr>\n",
              "  </tbody>\n",
              "</table>\n",
              "</div>\n",
              "      <button class=\"colab-df-convert\" onclick=\"convertToInteractive('df-e0d9c1bd-63da-4ac0-a109-e37f0cb3d53a')\"\n",
              "              title=\"Convert this dataframe to an interactive table.\"\n",
              "              style=\"display:none;\">\n",
              "        \n",
              "  <svg xmlns=\"http://www.w3.org/2000/svg\" height=\"24px\"viewBox=\"0 0 24 24\"\n",
              "       width=\"24px\">\n",
              "    <path d=\"M0 0h24v24H0V0z\" fill=\"none\"/>\n",
              "    <path d=\"M18.56 5.44l.94 2.06.94-2.06 2.06-.94-2.06-.94-.94-2.06-.94 2.06-2.06.94zm-11 1L8.5 8.5l.94-2.06 2.06-.94-2.06-.94L8.5 2.5l-.94 2.06-2.06.94zm10 10l.94 2.06.94-2.06 2.06-.94-2.06-.94-.94-2.06-.94 2.06-2.06.94z\"/><path d=\"M17.41 7.96l-1.37-1.37c-.4-.4-.92-.59-1.43-.59-.52 0-1.04.2-1.43.59L10.3 9.45l-7.72 7.72c-.78.78-.78 2.05 0 2.83L4 21.41c.39.39.9.59 1.41.59.51 0 1.02-.2 1.41-.59l7.78-7.78 2.81-2.81c.8-.78.8-2.07 0-2.86zM5.41 20L4 18.59l7.72-7.72 1.47 1.35L5.41 20z\"/>\n",
              "  </svg>\n",
              "      </button>\n",
              "      \n",
              "  <style>\n",
              "    .colab-df-container {\n",
              "      display:flex;\n",
              "      flex-wrap:wrap;\n",
              "      gap: 12px;\n",
              "    }\n",
              "\n",
              "    .colab-df-convert {\n",
              "      background-color: #E8F0FE;\n",
              "      border: none;\n",
              "      border-radius: 50%;\n",
              "      cursor: pointer;\n",
              "      display: none;\n",
              "      fill: #1967D2;\n",
              "      height: 32px;\n",
              "      padding: 0 0 0 0;\n",
              "      width: 32px;\n",
              "    }\n",
              "\n",
              "    .colab-df-convert:hover {\n",
              "      background-color: #E2EBFA;\n",
              "      box-shadow: 0px 1px 2px rgba(60, 64, 67, 0.3), 0px 1px 3px 1px rgba(60, 64, 67, 0.15);\n",
              "      fill: #174EA6;\n",
              "    }\n",
              "\n",
              "    [theme=dark] .colab-df-convert {\n",
              "      background-color: #3B4455;\n",
              "      fill: #D2E3FC;\n",
              "    }\n",
              "\n",
              "    [theme=dark] .colab-df-convert:hover {\n",
              "      background-color: #434B5C;\n",
              "      box-shadow: 0px 1px 3px 1px rgba(0, 0, 0, 0.15);\n",
              "      filter: drop-shadow(0px 1px 2px rgba(0, 0, 0, 0.3));\n",
              "      fill: #FFFFFF;\n",
              "    }\n",
              "  </style>\n",
              "\n",
              "      <script>\n",
              "        const buttonEl =\n",
              "          document.querySelector('#df-e0d9c1bd-63da-4ac0-a109-e37f0cb3d53a button.colab-df-convert');\n",
              "        buttonEl.style.display =\n",
              "          google.colab.kernel.accessAllowed ? 'block' : 'none';\n",
              "\n",
              "        async function convertToInteractive(key) {\n",
              "          const element = document.querySelector('#df-e0d9c1bd-63da-4ac0-a109-e37f0cb3d53a');\n",
              "          const dataTable =\n",
              "            await google.colab.kernel.invokeFunction('convertToInteractive',\n",
              "                                                     [key], {});\n",
              "          if (!dataTable) return;\n",
              "\n",
              "          const docLinkHtml = 'Like what you see? Visit the ' +\n",
              "            '<a target=\"_blank\" href=https://colab.research.google.com/notebooks/data_table.ipynb>data table notebook</a>'\n",
              "            + ' to learn more about interactive tables.';\n",
              "          element.innerHTML = '';\n",
              "          dataTable['output_type'] = 'display_data';\n",
              "          await google.colab.output.renderOutput(dataTable, element);\n",
              "          const docLink = document.createElement('div');\n",
              "          docLink.innerHTML = docLinkHtml;\n",
              "          element.appendChild(docLink);\n",
              "        }\n",
              "      </script>\n",
              "    </div>\n",
              "  </div>\n",
              "  "
            ]
          },
          "metadata": {},
          "execution_count": 10
        }
      ]
    },
    {
      "cell_type": "code",
      "source": [
        "dataset = dataset.values"
      ],
      "metadata": {
        "id": "bBPZmyRizH-H"
      },
      "execution_count": 11,
      "outputs": []
    },
    {
      "cell_type": "code",
      "source": [
        "dataset.shape"
      ],
      "metadata": {
        "colab": {
          "base_uri": "https://localhost:8080/"
        },
        "id": "vZd5JRfezwvn",
        "outputId": "e65c7590-fecb-4d19-d354-b22c6d016ffb"
      },
      "execution_count": 12,
      "outputs": [
        {
          "output_type": "execute_result",
          "data": {
            "text/plain": [
              "(32337, 2)"
            ]
          },
          "metadata": {},
          "execution_count": 12
        }
      ]
    },
    {
      "cell_type": "markdown",
      "source": [
        "Preprocess the data"
      ],
      "metadata": {
        "id": "qYFFmQBi01Cq"
      }
    },
    {
      "cell_type": "code",
      "source": [
        "# Change the text to have the same casing\n",
        "dataset[:,0] = [entry.lower() for entry in dataset[:,0]]"
      ],
      "metadata": {
        "id": "D2rB-Wdn1Dh1"
      },
      "execution_count": 13,
      "outputs": []
    },
    {
      "cell_type": "code",
      "source": [
        "# Tokenize the data\n",
        "dataset[:,0] = [word_tokenize(entry) for entry in dataset[:,0]]"
      ],
      "metadata": {
        "id": "9Xmphp9v1foK"
      },
      "execution_count": 14,
      "outputs": []
    },
    {
      "cell_type": "code",
      "source": [
        "tags = defaultdict(lambda : wn.NOUN)\n",
        "tags['J'] = wn.ADJ\n",
        "tags['V'] = wn.VERB\n",
        "tags['R'] = wn.ADV"
      ],
      "metadata": {
        "id": "9TxA1gA72wcN"
      },
      "execution_count": 15,
      "outputs": []
    },
    {
      "cell_type": "code",
      "source": [
        "for index, entry in enumerate(dataset[:, 0]):\n",
        "  words = []\n",
        "  word_lemmatized = WordNetLemmatizer()\n",
        "  for word, tag in pos_tag(entry):\n",
        "    final_word = word_lemmatized.lemmatize(word, tags[tag[0]])\n",
        "    words.append(final_word)\n",
        "  dataset[index, 0] = str(words)"
      ],
      "metadata": {
        "id": "7vrIqPSE40-M"
      },
      "execution_count": 16,
      "outputs": []
    },
    {
      "cell_type": "code",
      "source": [
        "x_train, x_test, y_train, y_test = train_test_split(dataset[:,0], dataset[:,1], test_size = 0.3, random_state=45)"
      ],
      "metadata": {
        "id": "JzXp9aZlzR7t"
      },
      "execution_count": 18,
      "outputs": []
    },
    {
      "cell_type": "code",
      "source": [
        "vectorizer = TfidfVectorizer(ngram_range=(1,3), analyzer='char')\n",
        "vectorizer.fit(dataset[:,0])"
      ],
      "metadata": {
        "id": "co5xBbpVDQ_B",
        "colab": {
          "base_uri": "https://localhost:8080/"
        },
        "outputId": "786c1901-998f-4f29-9c54-77da658535d3"
      },
      "execution_count": 19,
      "outputs": [
        {
          "output_type": "execute_result",
          "data": {
            "text/plain": [
              "TfidfVectorizer(analyzer='char', ngram_range=(1, 3))"
            ]
          },
          "metadata": {},
          "execution_count": 19
        }
      ]
    },
    {
      "cell_type": "code",
      "source": [
        "train_x_tfidf = vectorizer.transform(x_train)\n",
        "test_x_tfidf = vectorizer.transform(x_test)"
      ],
      "metadata": {
        "id": "9Iz8dYTaoN48"
      },
      "execution_count": 20,
      "outputs": []
    },
    {
      "cell_type": "code",
      "source": [
        "sup = svm.SVC()\n",
        "sup.fit(train_x_tfidf, y_train)"
      ],
      "metadata": {
        "colab": {
          "base_uri": "https://localhost:8080/"
        },
        "id": "OOoUFW6aojUv",
        "outputId": "d2f8337b-ef71-444f-e4e0-44d17784a162"
      },
      "execution_count": 21,
      "outputs": [
        {
          "output_type": "execute_result",
          "data": {
            "text/plain": [
              "SVC()"
            ]
          },
          "metadata": {},
          "execution_count": 21
        }
      ]
    },
    {
      "cell_type": "code",
      "source": [
        "pred = sup.predict(test_x_tfidf)\n",
        "svm_acc = (accuracy_score(pred, y_test))*100\n",
        "print(\"SVM accuracy: \", svm_acc, '%')"
      ],
      "metadata": {
        "colab": {
          "base_uri": "https://localhost:8080/"
        },
        "id": "tBbif_2ZowGl",
        "outputId": "25dc263d-285a-4bf8-a22e-857c52817f58"
      },
      "execution_count": 22,
      "outputs": [
        {
          "output_type": "stream",
          "name": "stdout",
          "text": [
            "SVM accuracy:  98.60853432282003 %\n"
          ]
        }
      ]
    },
    {
      "cell_type": "markdown",
      "source": [
        "Functionality"
      ],
      "metadata": {
        "id": "F5jx98OaloXg"
      }
    },
    {
      "cell_type": "code",
      "source": [
        "# Preprocess input from user\n",
        "def preprocess(data):\n",
        "  data = [entry.lower() for entry in data]\n",
        "\n",
        "  for index, entry in enumerate(data):\n",
        "    words = []\n",
        "    word_lemmatized = WordNetLemmatizer()\n",
        "    for word, tag in pos_tag(entry):\n",
        "      final_word = word_lemmatized.lemmatize(word, tags[tag[0]])\n",
        "      words.append(final_word)\n",
        "    data[index] = str(words)\n",
        "\n",
        "  return data"
      ],
      "metadata": {
        "id": "pFMX5tMOpTGi"
      },
      "execution_count": 23,
      "outputs": []
    },
    {
      "cell_type": "code",
      "source": [
        "def most_frequent(List):\n",
        "    dict = {}\n",
        "    count, word = 0, ''\n",
        "    for item in reversed(List):\n",
        "        dict[item] = dict.get(item, 0) + 1\n",
        "        if dict[item] >= count :\n",
        "            count, word = dict[item], item\n",
        "    return(word)"
      ],
      "metadata": {
        "id": "izwEQPXQcQWD"
      },
      "execution_count": 24,
      "outputs": []
    },
    {
      "cell_type": "code",
      "source": [
        "def predict(text):\n",
        "  words = text.split(\" \");\n",
        "  x = preprocess(words)\n",
        "  x = vectorizer.transform(x)\n",
        "  y = sup.predict(x)\n",
        "  final = most_frequent(y)\n",
        "  \n",
        "  return final"
      ],
      "metadata": {
        "id": "yi6CpXwzgtIm"
      },
      "execution_count": 25,
      "outputs": []
    },
    {
      "cell_type": "code",
      "source": [
        "predict(\"This is a bottom line test sentence used for the first time.\")"
      ],
      "metadata": {
        "colab": {
          "base_uri": "https://localhost:8080/",
          "height": 35
        },
        "id": "X21HTIPghG0z",
        "outputId": "68c4f766-8c51-494f-f73b-cca355ad9ab4"
      },
      "execution_count": 26,
      "outputs": [
        {
          "output_type": "execute_result",
          "data": {
            "text/plain": [
              "'English'"
            ],
            "application/vnd.google.colaboratory.intrinsic+json": {
              "type": "string"
            }
          },
          "metadata": {},
          "execution_count": 26
        }
      ]
    },
    {
      "cell_type": "markdown",
      "source": [
        "Translate"
      ],
      "metadata": {
        "id": "tJsBaXRu6b1J"
      }
    },
    {
      "cell_type": "code",
      "source": [
        "!pip install langdetect"
      ],
      "metadata": {
        "colab": {
          "base_uri": "https://localhost:8080/"
        },
        "id": "Q_6WGtNrmXPv",
        "outputId": "364a7a96-580e-40e8-c414-fb124ec01ffc"
      },
      "execution_count": 27,
      "outputs": [
        {
          "output_type": "stream",
          "name": "stdout",
          "text": [
            "Collecting langdetect\n",
            "  Downloading langdetect-1.0.9.tar.gz (981 kB)\n",
            "\u001b[?25l\r\u001b[K     |▍                               | 10 kB 30.1 MB/s eta 0:00:01\r\u001b[K     |▊                               | 20 kB 36.2 MB/s eta 0:00:01\r\u001b[K     |█                               | 30 kB 21.9 MB/s eta 0:00:01\r\u001b[K     |█▍                              | 40 kB 17.9 MB/s eta 0:00:01\r\u001b[K     |█▊                              | 51 kB 12.7 MB/s eta 0:00:01\r\u001b[K     |██                              | 61 kB 14.9 MB/s eta 0:00:01\r\u001b[K     |██▍                             | 71 kB 13.6 MB/s eta 0:00:01\r\u001b[K     |██▊                             | 81 kB 14.9 MB/s eta 0:00:01\r\u001b[K     |███                             | 92 kB 16.4 MB/s eta 0:00:01\r\u001b[K     |███▍                            | 102 kB 13.3 MB/s eta 0:00:01\r\u001b[K     |███▊                            | 112 kB 13.3 MB/s eta 0:00:01\r\u001b[K     |████                            | 122 kB 13.3 MB/s eta 0:00:01\r\u001b[K     |████▍                           | 133 kB 13.3 MB/s eta 0:00:01\r\u001b[K     |████▊                           | 143 kB 13.3 MB/s eta 0:00:01\r\u001b[K     |█████                           | 153 kB 13.3 MB/s eta 0:00:01\r\u001b[K     |█████▍                          | 163 kB 13.3 MB/s eta 0:00:01\r\u001b[K     |█████▊                          | 174 kB 13.3 MB/s eta 0:00:01\r\u001b[K     |██████                          | 184 kB 13.3 MB/s eta 0:00:01\r\u001b[K     |██████▍                         | 194 kB 13.3 MB/s eta 0:00:01\r\u001b[K     |██████▊                         | 204 kB 13.3 MB/s eta 0:00:01\r\u001b[K     |███████                         | 215 kB 13.3 MB/s eta 0:00:01\r\u001b[K     |███████▍                        | 225 kB 13.3 MB/s eta 0:00:01\r\u001b[K     |███████▊                        | 235 kB 13.3 MB/s eta 0:00:01\r\u001b[K     |████████                        | 245 kB 13.3 MB/s eta 0:00:01\r\u001b[K     |████████▍                       | 256 kB 13.3 MB/s eta 0:00:01\r\u001b[K     |████████▊                       | 266 kB 13.3 MB/s eta 0:00:01\r\u001b[K     |█████████                       | 276 kB 13.3 MB/s eta 0:00:01\r\u001b[K     |█████████▍                      | 286 kB 13.3 MB/s eta 0:00:01\r\u001b[K     |█████████▊                      | 296 kB 13.3 MB/s eta 0:00:01\r\u001b[K     |██████████                      | 307 kB 13.3 MB/s eta 0:00:01\r\u001b[K     |██████████▍                     | 317 kB 13.3 MB/s eta 0:00:01\r\u001b[K     |██████████▊                     | 327 kB 13.3 MB/s eta 0:00:01\r\u001b[K     |███████████                     | 337 kB 13.3 MB/s eta 0:00:01\r\u001b[K     |███████████▍                    | 348 kB 13.3 MB/s eta 0:00:01\r\u001b[K     |███████████▊                    | 358 kB 13.3 MB/s eta 0:00:01\r\u001b[K     |████████████                    | 368 kB 13.3 MB/s eta 0:00:01\r\u001b[K     |████████████▍                   | 378 kB 13.3 MB/s eta 0:00:01\r\u001b[K     |████████████▊                   | 389 kB 13.3 MB/s eta 0:00:01\r\u001b[K     |█████████████                   | 399 kB 13.3 MB/s eta 0:00:01\r\u001b[K     |█████████████▍                  | 409 kB 13.3 MB/s eta 0:00:01\r\u001b[K     |█████████████▊                  | 419 kB 13.3 MB/s eta 0:00:01\r\u001b[K     |██████████████                  | 430 kB 13.3 MB/s eta 0:00:01\r\u001b[K     |██████████████▍                 | 440 kB 13.3 MB/s eta 0:00:01\r\u001b[K     |██████████████▊                 | 450 kB 13.3 MB/s eta 0:00:01\r\u001b[K     |███████████████                 | 460 kB 13.3 MB/s eta 0:00:01\r\u001b[K     |███████████████▍                | 471 kB 13.3 MB/s eta 0:00:01\r\u001b[K     |███████████████▊                | 481 kB 13.3 MB/s eta 0:00:01\r\u001b[K     |████████████████                | 491 kB 13.3 MB/s eta 0:00:01\r\u001b[K     |████████████████▍               | 501 kB 13.3 MB/s eta 0:00:01\r\u001b[K     |████████████████▊               | 512 kB 13.3 MB/s eta 0:00:01\r\u001b[K     |█████████████████               | 522 kB 13.3 MB/s eta 0:00:01\r\u001b[K     |█████████████████▍              | 532 kB 13.3 MB/s eta 0:00:01\r\u001b[K     |█████████████████▊              | 542 kB 13.3 MB/s eta 0:00:01\r\u001b[K     |██████████████████              | 552 kB 13.3 MB/s eta 0:00:01\r\u001b[K     |██████████████████▍             | 563 kB 13.3 MB/s eta 0:00:01\r\u001b[K     |██████████████████▊             | 573 kB 13.3 MB/s eta 0:00:01\r\u001b[K     |███████████████████             | 583 kB 13.3 MB/s eta 0:00:01\r\u001b[K     |███████████████████▍            | 593 kB 13.3 MB/s eta 0:00:01\r\u001b[K     |███████████████████▊            | 604 kB 13.3 MB/s eta 0:00:01\r\u001b[K     |████████████████████            | 614 kB 13.3 MB/s eta 0:00:01\r\u001b[K     |████████████████████▍           | 624 kB 13.3 MB/s eta 0:00:01\r\u001b[K     |████████████████████▊           | 634 kB 13.3 MB/s eta 0:00:01\r\u001b[K     |█████████████████████           | 645 kB 13.3 MB/s eta 0:00:01\r\u001b[K     |█████████████████████▍          | 655 kB 13.3 MB/s eta 0:00:01\r\u001b[K     |█████████████████████▊          | 665 kB 13.3 MB/s eta 0:00:01\r\u001b[K     |██████████████████████          | 675 kB 13.3 MB/s eta 0:00:01\r\u001b[K     |██████████████████████▍         | 686 kB 13.3 MB/s eta 0:00:01\r\u001b[K     |██████████████████████▊         | 696 kB 13.3 MB/s eta 0:00:01\r\u001b[K     |███████████████████████         | 706 kB 13.3 MB/s eta 0:00:01\r\u001b[K     |███████████████████████▍        | 716 kB 13.3 MB/s eta 0:00:01\r\u001b[K     |███████████████████████▊        | 727 kB 13.3 MB/s eta 0:00:01\r\u001b[K     |████████████████████████        | 737 kB 13.3 MB/s eta 0:00:01\r\u001b[K     |████████████████████████▍       | 747 kB 13.3 MB/s eta 0:00:01\r\u001b[K     |████████████████████████▊       | 757 kB 13.3 MB/s eta 0:00:01\r\u001b[K     |█████████████████████████       | 768 kB 13.3 MB/s eta 0:00:01\r\u001b[K     |█████████████████████████▍      | 778 kB 13.3 MB/s eta 0:00:01\r\u001b[K     |█████████████████████████▊      | 788 kB 13.3 MB/s eta 0:00:01\r\u001b[K     |██████████████████████████      | 798 kB 13.3 MB/s eta 0:00:01\r\u001b[K     |██████████████████████████▍     | 808 kB 13.3 MB/s eta 0:00:01\r\u001b[K     |██████████████████████████▊     | 819 kB 13.3 MB/s eta 0:00:01\r\u001b[K     |███████████████████████████     | 829 kB 13.3 MB/s eta 0:00:01\r\u001b[K     |███████████████████████████▍    | 839 kB 13.3 MB/s eta 0:00:01\r\u001b[K     |███████████████████████████▊    | 849 kB 13.3 MB/s eta 0:00:01\r\u001b[K     |████████████████████████████    | 860 kB 13.3 MB/s eta 0:00:01\r\u001b[K     |████████████████████████████▍   | 870 kB 13.3 MB/s eta 0:00:01\r\u001b[K     |████████████████████████████▊   | 880 kB 13.3 MB/s eta 0:00:01\r\u001b[K     |█████████████████████████████   | 890 kB 13.3 MB/s eta 0:00:01\r\u001b[K     |█████████████████████████████▍  | 901 kB 13.3 MB/s eta 0:00:01\r\u001b[K     |█████████████████████████████▊  | 911 kB 13.3 MB/s eta 0:00:01\r\u001b[K     |██████████████████████████████  | 921 kB 13.3 MB/s eta 0:00:01\r\u001b[K     |██████████████████████████████▍ | 931 kB 13.3 MB/s eta 0:00:01\r\u001b[K     |██████████████████████████████▊ | 942 kB 13.3 MB/s eta 0:00:01\r\u001b[K     |███████████████████████████████ | 952 kB 13.3 MB/s eta 0:00:01\r\u001b[K     |███████████████████████████████▍| 962 kB 13.3 MB/s eta 0:00:01\r\u001b[K     |███████████████████████████████▊| 972 kB 13.3 MB/s eta 0:00:01\r\u001b[K     |████████████████████████████████| 981 kB 13.3 MB/s \n",
            "\u001b[?25hRequirement already satisfied: six in /usr/local/lib/python3.7/dist-packages (from langdetect) (1.15.0)\n",
            "Building wheels for collected packages: langdetect\n",
            "  Building wheel for langdetect (setup.py) ... \u001b[?25l\u001b[?25hdone\n",
            "  Created wheel for langdetect: filename=langdetect-1.0.9-py3-none-any.whl size=993242 sha256=b086d90105ed7eb122c4fcae1a4b71018264dd9ffa3afcec94677622859594c2\n",
            "  Stored in directory: /root/.cache/pip/wheels/c5/96/8a/f90c59ed25d75e50a8c10a1b1c2d4c402e4dacfa87f3aff36a\n",
            "Successfully built langdetect\n",
            "Installing collected packages: langdetect\n",
            "Successfully installed langdetect-1.0.9\n"
          ]
        }
      ]
    },
    {
      "cell_type": "code",
      "source": [
        "from langdetect import detect"
      ],
      "metadata": {
        "id": "fzFCMjz6mNe7"
      },
      "execution_count": 28,
      "outputs": []
    },
    {
      "cell_type": "code",
      "source": [
        "!pip install deep_translator"
      ],
      "metadata": {
        "colab": {
          "base_uri": "https://localhost:8080/"
        },
        "id": "of7FqyANg0SG",
        "outputId": "97df205b-87bc-4bd6-e474-47efa62c1cf0"
      },
      "execution_count": 29,
      "outputs": [
        {
          "output_type": "stream",
          "name": "stdout",
          "text": [
            "Collecting deep_translator\n",
            "  Downloading deep_translator-1.8.3-py3-none-any.whl (29 kB)\n",
            "Requirement already satisfied: requests<3.0.0,>=2.23.0 in /usr/local/lib/python3.7/dist-packages (from deep_translator) (2.23.0)\n",
            "Collecting beautifulsoup4<5.0.0,>=4.9.1\n",
            "  Downloading beautifulsoup4-4.11.1-py3-none-any.whl (128 kB)\n",
            "\u001b[K     |████████████████████████████████| 128 kB 21.9 MB/s \n",
            "\u001b[?25hRequirement already satisfied: soupsieve>1.2 in /usr/local/lib/python3.7/dist-packages (from beautifulsoup4<5.0.0,>=4.9.1->deep_translator) (2.3.2.post1)\n",
            "Requirement already satisfied: urllib3!=1.25.0,!=1.25.1,<1.26,>=1.21.1 in /usr/local/lib/python3.7/dist-packages (from requests<3.0.0,>=2.23.0->deep_translator) (1.24.3)\n",
            "Requirement already satisfied: idna<3,>=2.5 in /usr/local/lib/python3.7/dist-packages (from requests<3.0.0,>=2.23.0->deep_translator) (2.10)\n",
            "Requirement already satisfied: chardet<4,>=3.0.2 in /usr/local/lib/python3.7/dist-packages (from requests<3.0.0,>=2.23.0->deep_translator) (3.0.4)\n",
            "Requirement already satisfied: certifi>=2017.4.17 in /usr/local/lib/python3.7/dist-packages (from requests<3.0.0,>=2.23.0->deep_translator) (2021.10.8)\n",
            "Installing collected packages: beautifulsoup4, deep-translator\n",
            "  Attempting uninstall: beautifulsoup4\n",
            "    Found existing installation: beautifulsoup4 4.6.3\n",
            "    Uninstalling beautifulsoup4-4.6.3:\n",
            "      Successfully uninstalled beautifulsoup4-4.6.3\n",
            "Successfully installed beautifulsoup4-4.11.1 deep-translator-1.8.3\n"
          ]
        }
      ]
    },
    {
      "cell_type": "code",
      "source": [
        "from deep_translator import GoogleTranslator"
      ],
      "metadata": {
        "id": "DRCucLnIg-Ax"
      },
      "execution_count": 30,
      "outputs": []
    },
    {
      "cell_type": "code",
      "source": [
        "def translate(text):\n",
        "  if (predict(text) != \"English\") or (detect(text) != 'en'):\n",
        "    translated = GoogleTranslator(target='en').translate(text)\n",
        "    new_text = translated\n",
        "  else:\n",
        "    new_text = text\n",
        "    \n",
        "  return new_text"
      ],
      "metadata": {
        "id": "1Hbz2VMH6ddw"
      },
      "execution_count": 31,
      "outputs": []
    },
    {
      "cell_type": "markdown",
      "source": [
        "Summarize"
      ],
      "metadata": {
        "id": "vBxWJWJ3sGzD"
      }
    },
    {
      "cell_type": "code",
      "source": [
        "stopWords = set(stopwords.words('english'))\n",
        "import re"
      ],
      "metadata": {
        "id": "DH7AV9EQsGc9"
      },
      "execution_count": 32,
      "outputs": []
    },
    {
      "cell_type": "code",
      "source": [
        "from sklearn.feature_extraction.text import CountVectorizer\n",
        "from sklearn.metrics.pairwise import cosine_similarity\n",
        "from sklearn.feature_extraction.text import TfidfVectorizer\n",
        "import pandas as pd\n",
        "\n",
        "def build_matrix(sentences):\n",
        "  tfidf = TfidfVectorizer()\n",
        "  vect_matrix = tfidf.fit_transform(sentences)\n",
        "\n",
        "  similarity = cosine_similarity(vect_matrix)\n",
        "\n",
        "  return similarity"
      ],
      "metadata": {
        "id": "FZNGjLvby1-7"
      },
      "execution_count": 33,
      "outputs": []
    },
    {
      "cell_type": "code",
      "source": [
        "import networkx as nx\n",
        "import math\n",
        "\n",
        "def summarize(matrix, sentences):\n",
        "  summary = []\n",
        "\n",
        "  graph = nx.from_numpy_array(matrix)\n",
        "  scores = nx.pagerank(graph)\n",
        "\n",
        "  ranked = sorted(((scores[i], s) for i, s in enumerate(sentences)), reverse=True)\n",
        "\n",
        "  for i in range(int(math.sqrt(len(sentences)))):\n",
        "    summary.append(ranked[i][1])\n",
        "\n",
        "  return summary"
      ],
      "metadata": {
        "id": "YF7slM58_ds9"
      },
      "execution_count": 34,
      "outputs": []
    },
    {
      "cell_type": "code",
      "source": [
        "def prep_paragraph(text):\n",
        "  sentences = sent_tokenize(text)\n",
        "  \n",
        "  matrix = build_matrix(sentences)\n",
        "\n",
        "  summary = summarize(matrix, sentences)\n",
        "\n",
        "  return summary"
      ],
      "metadata": {
        "id": "k5s_8I5fuEF-"
      },
      "execution_count": 35,
      "outputs": []
    },
    {
      "cell_type": "code",
      "source": [
        "# Test translator and summarizer\n",
        "test = 'Python is a high-level, general-purpose programming language. Its design philosophy emphasizes code readability with the use of significant indentation. Its language constructs and object-oriented approach aim to help programmers write clear, logical code for small- and large-scale projects.[30] Python is dynamically-typed and garbage-collected. It supports multiple programming paradigms, including structured (particularly procedural), object-oriented and functional programming. It is often described as a \"batteries included\" language due to its comprehensive standard library.[31][32] Guido van Rossum began working on Python in the late 1980s as a successor to the ABC programming language and first released it in 1991 as Python 0.9.0.[33] Python 2.0 was released in 2000 and introduced new features such as list comprehensions, cycle-detecting garbage collection, reference counting, and Unicode support. Python 3.0, released in 2008, was a major revision that is not completely backward-compatible with earlier versions. Python 2 was discontinued with version 2.7.18 in 2020.[34] Python consistently ranks as one of the most popular programming languages'\n",
        "test = translate(test)\n",
        "for i in prep_paragraph(test):\n",
        "  print(i)"
      ],
      "metadata": {
        "colab": {
          "base_uri": "https://localhost:8080/"
        },
        "id": "YI4Mictr1h-7",
        "outputId": "a9bd5b74-dded-4700-c45a-34f0dc50a987"
      },
      "execution_count": 36,
      "outputs": [
        {
          "output_type": "stream",
          "name": "stdout",
          "text": [
            "[31][32] Guido van Rossum began working on Python in the late 1980s as a successor to the ABC programming language and first released it in 1991 as Python 0.9.0.\n",
            "[33] Python 2.0 was released in 2000 and introduced new features such as list comprehensions, cycle-detecting garbage collection, reference counting, and Unicode support.\n",
            "Python is a high-level, general-purpose programming language.\n"
          ]
        }
      ]
    },
    {
      "cell_type": "code",
      "source": [
        "# Test translator and summarizer\n",
        "test2 = 'Los niños caminan por el bosque. “Podemos construir una fortaleza,” dice Jorge. Los niños no lo saben, pero no están solos en el bosque. Un oso y unos conejos están escondidos detrás de los árboles. Los niños encuentran un árbol grande. Sofía dice “¡Es el lugar perfecto para construir nuestra fortaleza!”'\n",
        "test2 = translate(test2)\n",
        "for i in prep_paragraph(test2):\n",
        "  print(i)"
      ],
      "metadata": {
        "colab": {
          "base_uri": "https://localhost:8080/"
        },
        "id": "MQJzcfF-m9NO",
        "outputId": "59859140-3180-4d7c-cb6c-c1a6b81f992e"
      },
      "execution_count": 37,
      "outputs": [
        {
          "output_type": "stream",
          "name": "stdout",
          "text": [
            "Sofia says \"It's the perfect place to build our fortress!\"\n",
            "The children walk through the woods.\n"
          ]
        }
      ]
    }
  ]
}